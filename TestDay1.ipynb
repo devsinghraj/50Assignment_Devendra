{
  "nbformat": 4,
  "nbformat_minor": 0,
  "metadata": {
    "colab": {
      "provenance": [],
      "authorship_tag": "ABX9TyOKNmU1/w7HIlQPBzbTppV3",
      "include_colab_link": true
    },
    "kernelspec": {
      "name": "python3",
      "display_name": "Python 3"
    },
    "language_info": {
      "name": "python"
    }
  },
  "cells": [
    {
      "cell_type": "markdown",
      "metadata": {
        "id": "view-in-github",
        "colab_type": "text"
      },
      "source": [
        "<a href=\"https://colab.research.google.com/github/devsinghraj/50Assignment_Devendra/blob/main/TestDay1.ipynb\" target=\"_parent\"><img src=\"https://colab.research.google.com/assets/colab-badge.svg\" alt=\"Open In Colab\"/></a>"
      ]
    },
    {
      "cell_type": "code",
      "execution_count": 9,
      "metadata": {
        "colab": {
          "base_uri": "https://localhost:8080/"
        },
        "id": "f2TQjnKSX58F",
        "outputId": "d31b53fe-7afa-433e-ed18-7ec90c4e9c7c"
      },
      "outputs": [
        {
          "output_type": "stream",
          "name": "stdout",
          "text": [
            "Hello World\n",
            "what is your name?dev\n",
            "welcome dev\n"
          ]
        }
      ],
      "source": [
        "print(\"Hello World\")\n",
        "name = input (\"what is your name?\")\n",
        "print(\"welcome\", name)"
      ]
    },
    {
      "cell_type": "code",
      "source": [
        "myint = 9\n",
        "myfloat = 10.234\n",
        "mystr = \"Hello my friend, \"\n",
        "mybool = True\n",
        "print(myint)\n",
        "print(myint + myfloat)\n",
        "print(myint * myfloat)\n",
        "print(myint / 2)\n",
        "print(myint % 3)\n",
        "test_str = \" how are you?\"\n",
        "print(mystr * 3)\n",
        "print(mystr + test_str)\n",
        "print(mystr + \" 1\")"
      ],
      "metadata": {
        "colab": {
          "base_uri": "https://localhost:8080/"
        },
        "id": "UGuFxF9F1Dvm",
        "outputId": "ead6687e-cc8a-4461-f0e5-13f421477dd6"
      },
      "execution_count": 34,
      "outputs": [
        {
          "output_type": "stream",
          "name": "stdout",
          "text": [
            "9\n",
            "19.234\n",
            "92.106\n",
            "4.5\n",
            "0\n",
            "Hello my friend, Hello my friend, Hello my friend, \n",
            "Hello my friend,  how are you?\n",
            "Hello my friend,  1\n"
          ]
        }
      ]
    },
    {
      "cell_type": "code",
      "source": [
        "print(myint == 10)\n",
        "print(myint > 10)\n",
        "print(myint < 10)\n",
        "print(myint >= 10)\n",
        "print(myint <= 10)\n",
        "print(myint != 10)\n",
        "print(myint > 5 or myint < 8)\n",
        "print(myint > 5 and myint < 8)"
      ],
      "metadata": {
        "colab": {
          "base_uri": "https://localhost:8080/"
        },
        "id": "IqBYH2sXHdKI",
        "outputId": "85e01c12-ec5f-476a-b96a-115115d6fcfc"
      },
      "execution_count": 43,
      "outputs": [
        {
          "output_type": "stream",
          "name": "stdout",
          "text": [
            "False\n",
            "False\n",
            "True\n",
            "False\n",
            "True\n",
            "True\n",
            "True\n",
            "False\n"
          ]
        }
      ]
    },
    {
      "cell_type": "code",
      "source": [],
      "metadata": {
        "id": "jmLoId_FIkHw"
      },
      "execution_count": null,
      "outputs": []
    }
  ]
}